{
  "cells": [
    {
      "cell_type": "markdown",
      "source": [
        "## **Torch to TRT Conversion Code**"
      ],
      "metadata": {
        "id": "tLkegvAKJBEb"
      }
    },
    {
      "cell_type": "markdown",
      "source": [
        "**1. Start with Installing the right packages on Machine to enable Conversion**"
      ],
      "metadata": {
        "id": "FkbMc8jjKn8C"
      }
    },
    {
      "cell_type": "code",
      "execution_count": null,
      "metadata": {
        "id": "DOpblKgxmHZu",
        "colab": {
          "base_uri": "https://localhost:8080/"
        },
        "outputId": "d105f78e-979c-4c0c-e963-4ea681b826d5"
      },
      "outputs": [
        {
          "output_type": "stream",
          "name": "stdout",
          "text": [
            "Cloning into 'torch2trt'...\n",
            "remote: Enumerating objects: 4030, done.\u001b[K\n",
            "remote: Counting objects: 100% (498/498), done.\u001b[K\n",
            "remote: Compressing objects: 100% (219/219), done.\u001b[K\n",
            "remote: Total 4030 (delta 284), reused 442 (delta 274), pack-reused 3532\u001b[K\n",
            "Receiving objects: 100% (4030/4030), 7.83 MiB | 26.57 MiB/s, done.\n",
            "Resolving deltas: 100% (2235/2235), done.\n"
          ]
        }
      ],
      "source": [
        "# pip install git\n",
        "!git clone https://github.com/NVIDIA-AI-IOT/torch2trt\n"
      ]
    },
    {
      "cell_type": "code",
      "execution_count": null,
      "metadata": {
        "id": "DI1x5o6k1lup",
        "colab": {
          "base_uri": "https://localhost:8080/"
        },
        "outputId": "a5987ab6-ceb2-4d6e-ca02-8bedc2b521df"
      },
      "outputs": [
        {
          "output_type": "stream",
          "name": "stdout",
          "text": [
            "/content/torch2trt\n"
          ]
        }
      ],
      "source": [
        "cd torch2trt"
      ]
    },
    {
      "cell_type": "code",
      "execution_count": null,
      "metadata": {
        "id": "uSzbv01xosdU",
        "colab": {
          "base_uri": "https://localhost:8080/"
        },
        "outputId": "d2853869-f4e8-4b97-f112-1fd36614912f"
      },
      "outputs": [
        {
          "output_type": "stream",
          "name": "stdout",
          "text": [
            "Looking in indexes: https://pypi.org/simple, https://us-python.pkg.dev/colab-wheels/public/simple/\n",
            "Collecting nvidia-pyindex\n",
            "  Downloading nvidia-pyindex-1.0.9.tar.gz (10 kB)\n",
            "Building wheels for collected packages: nvidia-pyindex\n",
            "  Building wheel for nvidia-pyindex (setup.py) ... \u001b[?25l\u001b[?25hdone\n",
            "  Created wheel for nvidia-pyindex: filename=nvidia_pyindex-1.0.9-py3-none-any.whl size=8416 sha256=e642dd7af36001efc390a2b02f5c0af9cf7b7ee2ef8c210723a2550fed2f14d4\n",
            "  Stored in directory: /root/.cache/pip/wheels/f1/a1/a1/6cc45cc1ae6b1876f12ef399c0d0d6e18809e9ced611c7c2a7\n",
            "Successfully built nvidia-pyindex\n",
            "Installing collected packages: nvidia-pyindex\n",
            "Successfully installed nvidia-pyindex-1.0.9\n",
            "Looking in indexes: https://pypi.org/simple, https://us-python.pkg.dev/colab-wheels/public/simple/, https://pypi.ngc.nvidia.com\n",
            "Collecting nvidia-tensorrt\n",
            "  Downloading https://developer.download.nvidia.com/compute/redist/nvidia-tensorrt/nvidia_tensorrt-8.4.1.5-cp37-none-linux_x86_64.whl (774.4 MB)\n",
            "\u001b[K     |████████████████████████████████| 774.4 MB 16 kB/s \n",
            "\u001b[?25hCollecting nvidia-cuda-runtime-cu11\n",
            "  Downloading https://developer.download.nvidia.com/compute/redist/nvidia-cuda-runtime-cu11/nvidia-cuda-runtime-cu11-2022.4.25.tar.gz (16 kB)\n",
            "Collecting nvidia-cublas-cu11\n",
            "  Downloading https://developer.download.nvidia.com/compute/redist/nvidia-cublas-cu11/nvidia-cublas-cu11-2022.4.8.tar.gz (16 kB)\n",
            "Collecting nvidia-cudnn-cu11\n",
            "  Downloading https://developer.download.nvidia.com/compute/redist/nvidia-cudnn-cu11/nvidia-cudnn-cu11-2022.5.19.tar.gz (16 kB)\n",
            "Collecting nvidia-cublas-cu117\n",
            "  Downloading https://developer.download.nvidia.com/compute/redist/nvidia-cublas-cu117/nvidia_cublas_cu117-11.10.1.25-py3-none-manylinux1_x86_64.whl (333.1 MB)\n",
            "\u001b[K     |████████████████████████████████| 333.1 MB 36 kB/s \n",
            "\u001b[?25hRequirement already satisfied: wheel in /usr/local/lib/python3.7/dist-packages (from nvidia-cublas-cu117->nvidia-cublas-cu11->nvidia-tensorrt) (0.37.1)\n",
            "Requirement already satisfied: setuptools in /usr/local/lib/python3.7/dist-packages (from nvidia-cublas-cu117->nvidia-cublas-cu11->nvidia-tensorrt) (57.4.0)\n",
            "Collecting nvidia-cuda-runtime-cu117\n",
            "  Downloading https://developer.download.nvidia.com/compute/redist/nvidia-cuda-runtime-cu117/nvidia_cuda_runtime_cu117-11.7.60-py3-none-manylinux1_x86_64.whl (849 kB)\n",
            "\u001b[K     |████████████████████████████████| 849 kB 52.0 MB/s \n",
            "\u001b[?25hCollecting nvidia-cudnn-cu116\n",
            "  Downloading https://developer.download.nvidia.com/compute/redist/nvidia-cudnn-cu116/nvidia_cudnn_cu116-8.4.0.27-py3-none-manylinux1_x86_64.whl (719.3 MB)\n",
            "\u001b[K     |████████████████████████████████| 719.3 MB 18 kB/s \n",
            "\u001b[?25hBuilding wheels for collected packages: nvidia-cublas-cu11, nvidia-cuda-runtime-cu11, nvidia-cudnn-cu11\n",
            "  Building wheel for nvidia-cublas-cu11 (setup.py) ... \u001b[?25l\u001b[?25hdone\n",
            "  Created wheel for nvidia-cublas-cu11: filename=nvidia_cublas_cu11-2022.4.8-py3-none-any.whl size=15624 sha256=b8ea6d3495094309aa7e7d17a035630196cbdd5f28ee25cf4c1461a9d989f01e\n",
            "  Stored in directory: /root/.cache/pip/wheels/e2/c3/94/1ffd5bac267cfdc2b222a4ec6915278ef18a028a916b9a5ac3\n",
            "  Building wheel for nvidia-cuda-runtime-cu11 (setup.py) ... \u001b[?25l\u001b[?25hdone\n",
            "  Created wheel for nvidia-cuda-runtime-cu11: filename=nvidia_cuda_runtime_cu11-2022.4.25-py3-none-any.whl size=15696 sha256=4a47b39fe81ea29afb05fc98199518bb74b6bac57bcbef6e885110ed5a2f9265\n",
            "  Stored in directory: /root/.cache/pip/wheels/df/fe/2b/e553db7867508b2268b14ac194e9ac5b3f51f21316c282c96c\n",
            "  Building wheel for nvidia-cudnn-cu11 (setup.py) ... \u001b[?25l\u001b[?25hdone\n",
            "  Created wheel for nvidia-cudnn-cu11: filename=nvidia_cudnn_cu11-2022.5.19-py3-none-any.whl size=15617 sha256=5c6859b8be416c9d9d18e4d4e7d7905749e99b58b8fc0415a9491f27cd8e664d\n",
            "  Stored in directory: /root/.cache/pip/wheels/7c/32/69/9787704b5f889217708864db5e00812c8c1c349ef89084c59c\n",
            "Successfully built nvidia-cublas-cu11 nvidia-cuda-runtime-cu11 nvidia-cudnn-cu11\n",
            "Installing collected packages: nvidia-cudnn-cu116, nvidia-cuda-runtime-cu117, nvidia-cublas-cu117, nvidia-cudnn-cu11, nvidia-cuda-runtime-cu11, nvidia-cublas-cu11, nvidia-tensorrt\n"
          ]
        }
      ],
      "source": [
        "!pip install nvidia-pyindex\n",
        "!pip install nvidia-tensorrt\n",
        "!python3 /content/torch2trt/setup.py install"
      ]
    },
    {
      "cell_type": "code",
      "execution_count": null,
      "metadata": {
        "id": "lugGe15Qq7k7"
      },
      "outputs": [],
      "source": [
        "!cmake -B build . && cmake --build build --target install && ldconfig"
      ]
    },
    {
      "cell_type": "markdown",
      "source": [
        "**2. Import Google Drive Input Information (Must add to local Google Drive)**"
      ],
      "metadata": {
        "id": "gQLiBCyXKuPk"
      }
    },
    {
      "cell_type": "code",
      "execution_count": null,
      "metadata": {
        "id": "ZSqSaeDlJkdw"
      },
      "outputs": [],
      "source": [
        "from google.colab import drive\n",
        "drive.mount('/content/gdrive')"
      ]
    },
    {
      "cell_type": "markdown",
      "source": [
        "**3. Import all needed Libraries!**"
      ],
      "metadata": {
        "id": "5HMgLNyqK8JP"
      }
    },
    {
      "cell_type": "code",
      "source": [
        "import torchvision\n",
        "from torchvision import datasets, transforms, models\n",
        "from torch import nn, optim\n",
        "from torch.autograd import Variable\n",
        "from torch.utils.data.sampler import SubsetRandomSampler\n",
        "from torch.utils.data import Dataset, DataLoader\n",
        "from PIL import Image\n",
        "from skimage import io, transform\n",
        "import torch.utils.data as data_utils\n",
        "import os\n",
        "import pandas as pd\n",
        "import numpy as np\n",
        "import torch\n",
        "import torch2trt.torch2trt\n",
        "from pandas.core.frame import DataFrame\n",
        "from os import listdir\n",
        "from os.path import isfile, join"
      ],
      "metadata": {
        "id": "c-I__O7nUeU-"
      },
      "execution_count": null,
      "outputs": []
    },
    {
      "cell_type": "code",
      "source": [
        "import time"
      ],
      "metadata": {
        "id": "Bt4ByV3gk89M"
      },
      "execution_count": null,
      "outputs": []
    },
    {
      "cell_type": "markdown",
      "source": [
        "**4. Import Standard Code from Kaggle to input data**"
      ],
      "metadata": {
        "id": "4xhpWL8jLP0b"
      }
    },
    {
      "cell_type": "code",
      "source": [
        "class DogBreedsDataset(Dataset):\n",
        "    \"\"\"Dog Breeds dataset.\"\"\"\n",
        "\n",
        "    def __init__(self, csv_file, root_dir, files, transform=None):\n",
        "        \"\"\"\n",
        "        Args:\n",
        "            csv_file (string): Path to the csv file with annotations.\n",
        "            root_dir (string): Directory with all the images.\n",
        "            transform (callable, optional): Optional transform to be applied\n",
        "                on a sample.\n",
        "        \"\"\"\n",
        "        df = pd.read_csv(csv_file)\n",
        "        df = df[df['id'].isin(files)]\n",
        "        self.labels_frame = df\n",
        "        \n",
        "        self.map = dict(zip(self.labels_frame['breed'].unique(),range(0,len(self.labels_frame['breed'].unique()))))\n",
        "        self.labels_frame['breed'] = self.labels_frame['breed'].map(self.map)\n",
        "        self.root_dir = root_dir\n",
        "        self.transform = transform\n",
        "        \n",
        "    def getmap(self):\n",
        "        return self.map\n",
        "        \n",
        "    def __getclasses__(self):\n",
        "        return self.labels_frame['breed'].unique().tolist()\n",
        "\n",
        "    def __len__(self):\n",
        "        return len(self.labels_frame)\n",
        "\n",
        "    def __getitem__(self, idx):\n",
        "        img_name = os.path.join(self.root_dir,\n",
        "                                self.labels_frame.iloc[idx, 0])\n",
        "        img_name = img_name + '.jpg'\n",
        "        \n",
        "        image = io.imread(img_name)\n",
        "        PIL_image = Image.fromarray(image)\n",
        "        label = self.labels_frame.iloc[idx, 1:]\n",
        "        label = [int(label) for x in label]\n",
        "        label = np.asarray(label)\n",
        "        label = torch.from_numpy(label)\n",
        "        if self.transform:\n",
        "            image = self.transform(PIL_image)\n",
        "        #sample = {'image': image, 'label': label}\n",
        "        return image,label"
      ],
      "metadata": {
        "id": "O4RmjIOtUYzT"
      },
      "execution_count": null,
      "outputs": []
    },
    {
      "cell_type": "markdown",
      "source": [
        "**4.1 Import Settings from Tkinter**"
      ],
      "metadata": {
        "id": "m6G8ofCWL-C_"
      }
    },
    {
      "cell_type": "code",
      "source": [
        "import re\n",
        "import json\n",
        "settings_path = '/content/gdrive/MyDrive/settings/data.json'\n",
        "with open(settings_path) as f:\n",
        "    json_data = json.load(f)\n",
        "print(json_data)\n",
        "\n",
        "\n",
        "batch_size = json_data['batch_size']\n",
        "batch_size = 1\n",
        "# percentage of training set to use as validation\n",
        "valid_size = 1.0\n",
        "dtype = json_data['dtype']\n",
        "load = json_data['load']\n",
        "model_file = json_data['model']\n",
        "input_size = tuple(re.findall(r'\\d+', json_data['input_size']))\n"
      ],
      "metadata": {
        "id": "eoPWWvTQ5Jvu"
      },
      "execution_count": null,
      "outputs": []
    },
    {
      "cell_type": "markdown",
      "source": [
        "**4.2 Add new Code to input Training Data set up Accuracy Testing**"
      ],
      "metadata": {
        "id": "uY0fKiWJLc5G"
      }
    },
    {
      "cell_type": "code",
      "source": [
        "mypath = '/content/gdrive/MyDrive/input/train'\n",
        "onlyfiles = [f for f in listdir(mypath) if isfile(join(mypath, f))]\n",
        "\n",
        "filenames_evaluate = []\n",
        "for i in onlyfiles:\n",
        "  new_name = i[:-4]\n",
        "  filenames_evaluate.append(new_name)\n",
        "filenames_evaluate[:load+1]\n",
        "\n",
        "df_labelEval = pd.read_csv('/content/gdrive/MyDrive/input/labels.csv')\n",
        "df_labelEval = df_labelEval[df_labelEval['id'].isin(filenames_evaluate)]\n",
        "\n",
        "transform = transforms.Compose([transforms.Resize(255),\n",
        "    transforms.CenterCrop(224),\n",
        "    transforms.ToTensor(),\n",
        "    transforms.Normalize((0.5, 0.5, 0.5), (0.5, 0.5, 0.5))\n",
        "    ])\n",
        "\n",
        "test_transforms = transforms.Compose([\n",
        "                                      transforms.ToTensor()])\n",
        "\n",
        "train_data = DogBreedsDataset(csv_file='/content/gdrive/MyDrive/input/labels.csv',root_dir='/content/gdrive/MyDrive/input/train', transform=transform, files = filenames_evaluate)\n"
      ],
      "metadata": {
        "id": "c7RW7bct-DAS"
      },
      "execution_count": null,
      "outputs": []
    },
    {
      "cell_type": "code",
      "source": [
        "\n",
        "classes = train_data.__getclasses__()\n",
        "print(classes)\n",
        "#obtain training indices that will be used for validation\n",
        "num_train = len(train_data)\n",
        "indices = list(range(num_train))\n",
        "np.random.shuffle(indices)\n",
        "split = int(np.floor(valid_size * num_train))\n",
        "train_idx, valid_idx = indices[split:], indices[:split]\n",
        "\n",
        "valid_sampler = SubsetRandomSampler(valid_idx)\n",
        "\n",
        "valid_loader = torch.utils.data.DataLoader(train_data, batch_size=batch_size, \n",
        "    sampler=valid_sampler)\n",
        "\n",
        "gpu_test = torch.cuda.is_available()\n",
        "criterion = nn.CrossEntropyLoss()"
      ],
      "metadata": {
        "id": "kSVVQn6411kI"
      },
      "execution_count": null,
      "outputs": []
    },
    {
      "cell_type": "code",
      "source": [
        "gpu_test = torch.cuda.is_available()\n",
        "criterion = nn.CrossEntropyLoss()"
      ],
      "metadata": {
        "id": "BxxrLl6p1F3N"
      },
      "execution_count": null,
      "outputs": []
    },
    {
      "cell_type": "code",
      "execution_count": null,
      "metadata": {
        "id": "pmQZxJ28rdym"
      },
      "outputs": [],
      "source": [
        "model_base = torch.load('/content/gdrive/MyDrive/input/model.pt')\n",
        "\n",
        "if gpu_test:\n",
        "  print(\"Torch Model in CUDA Setting\")\n",
        "  model_base\n",
        "\n",
        "data_trt_input = torch.randn((1,3,224,224)).cuda()\n",
        "\n",
        "if dtype == \"fp16\":\n",
        "  model_torch_convert = model_base.cuda().half().eval()\n",
        "  data_trt_input = data_trt_input.half()\n",
        "  model_trt = torch2trt.torch2trt(model_torch_convert, [data_trt_input], fp16_mode=True)\n",
        "\n",
        "if dtype == \"int8\":\n",
        "  model_torch_convert = model_base.cuda().type('torch.int8').eval()\n",
        "  # data_trt_input = data_trt_input.type('torch.int8')\n",
        "  model_trt = torch2trt.torch2trt(model_torch_convert, [data_trt_input], int8_mode=True, max_batch_size=batch_size)\n",
        "\n",
        "model_torch = model_base.cuda().eval()"
      ]
    },
    {
      "cell_type": "markdown",
      "source": [
        "Torch Model Evaluation"
      ],
      "metadata": {
        "id": "Rsgf7yBxD3wC"
      }
    },
    {
      "cell_type": "code",
      "source": [
        "time_start = time.time()\n",
        "model_torch.cuda()\n",
        "count = 0\n",
        "valid_loss = 0\n",
        "for batch_i, (data, target) in enumerate(valid_loader):\n",
        "  if count > load:\n",
        "    break\n",
        "  count += 1\n",
        "  \n",
        "  # move tensors to GPU if CUDA is available\n",
        "  if gpu_test:\n",
        "      time.sleep(0.01)\n",
        "      data, target = data.cuda(), target.cuda()\n",
        "  \n",
        "  # data_example = data\n",
        "  output = model_torch(data.half())\n",
        "  # print(output)\n",
        "  # print(target)\n",
        "  # calculate the batch loss\n",
        "  loss = criterion(output, torch.max(target, 1)[1])\n",
        "  \n",
        "  # update training loss \n",
        "  valid_loss += loss.item()\n",
        "  \n",
        "  if batch_i % batch_size == batch_size-1:    # print validation loss every specified number of mini-batches\n",
        "      print('Load Testing Torch %d loss: %.16f' %\n",
        "            (batch_i + 1, valid_loss / batch_size))\n",
        "      valid_loss = 0.0\n",
        "time_end = time.time()\n",
        "\n",
        "time_diff_torch = time_end - time_start\n",
        "print(\"Total Time:\" + str(time_diff_torch))\n"
      ],
      "metadata": {
        "id": "bF_xQrFv8Y-D",
        "colab": {
          "base_uri": "https://localhost:8080/"
        },
        "outputId": "af953a6c-23e7-41d7-b32d-aed340719f2a"
      },
      "execution_count": 29,
      "outputs": [
        {
          "output_type": "stream",
          "name": "stdout",
          "text": [
            "Load Testing Torch 1 loss: 0.0003287792205811\n",
            "Load Testing Torch 2 loss: 0.0000472068786621\n",
            "Load Testing Torch 3 loss: 0.0000003576278687\n",
            "Load Testing Torch 4 loss: 0.0000077486038208\n",
            "Load Testing Torch 5 loss: 0.0000201463699341\n",
            "Load Testing Torch 6 loss: 0.0001021623611450\n",
            "Load Testing Torch 7 loss: 0.0000081062316895\n",
            "Load Testing Torch 8 loss: 0.0003004074096680\n",
            "Load Testing Torch 9 loss: 0.0000863075256348\n",
            "Load Testing Torch 10 loss: 0.0031013488769531\n",
            "Load Testing Torch 11 loss: 0.0059051513671875\n",
            "Load Testing Torch 12 loss: 0.0003027915954590\n",
            "Load Testing Torch 13 loss: 0.0001275539398193\n",
            "Load Testing Torch 14 loss: 0.0000264644622803\n",
            "Load Testing Torch 15 loss: 0.0024089813232422\n",
            "Load Testing Torch 16 loss: 0.0014581680297852\n",
            "Load Testing Torch 17 loss: 0.0001050233840942\n",
            "Load Testing Torch 18 loss: 0.0102310180664062\n",
            "Load Testing Torch 19 loss: 0.0000131130218506\n",
            "Load Testing Torch 20 loss: 0.0000990629196167\n",
            "Load Testing Torch 21 loss: 0.0000432729721069\n",
            "Load Testing Torch 22 loss: 0.0000479221343994\n",
            "Load Testing Torch 23 loss: 0.0007486343383789\n",
            "Load Testing Torch 24 loss: 0.0093460083007812\n",
            "Load Testing Torch 25 loss: 0.0133209228515625\n",
            "Load Testing Torch 26 loss: 0.0035552978515625\n",
            "Load Testing Torch 27 loss: 0.0016098022460938\n",
            "Load Testing Torch 28 loss: 0.0002061128616333\n",
            "Load Testing Torch 29 loss: 0.0000990629196167\n",
            "Load Testing Torch 30 loss: 0.0000569820404053\n",
            "Load Testing Torch 31 loss: 0.0004453659057617\n",
            "Load Testing Torch 32 loss: 0.0000045299530029\n",
            "Load Testing Torch 33 loss: 0.0000728368759155\n",
            "Load Testing Torch 34 loss: 0.0000073909759521\n",
            "Load Testing Torch 35 loss: 0.0005726814270020\n",
            "Load Testing Torch 36 loss: 0.0002710819244385\n",
            "Load Testing Torch 37 loss: 0.0006132125854492\n",
            "Load Testing Torch 38 loss: 0.0020198822021484\n",
            "Load Testing Torch 39 loss: 0.0001231431961060\n",
            "Load Testing Torch 40 loss: 0.0004281997680664\n",
            "Load Testing Torch 41 loss: 0.0009107589721680\n",
            "Load Testing Torch 42 loss: 0.0002503395080566\n",
            "Load Testing Torch 43 loss: 0.0002520084381104\n",
            "Load Testing Torch 44 loss: 0.0000691413879395\n",
            "Load Testing Torch 45 loss: 0.0000020265579224\n",
            "Load Testing Torch 46 loss: 0.0002801418304443\n",
            "Load Testing Torch 47 loss: 0.0012578964233398\n",
            "Load Testing Torch 48 loss: 0.0006413459777832\n",
            "Load Testing Torch 49 loss: 0.0017805099487305\n",
            "Load Testing Torch 50 loss: 0.0000790357589722\n",
            "Load Testing Torch 51 loss: 0.0010099411010742\n",
            "Load Testing Torch 52 loss: 0.0000543594360352\n",
            "Load Testing Torch 53 loss: 0.0002827644348145\n",
            "Load Testing Torch 54 loss: 0.0002046823501587\n",
            "Load Testing Torch 55 loss: 0.0000346899032593\n",
            "Load Testing Torch 56 loss: 0.0005574226379395\n",
            "Load Testing Torch 57 loss: 0.0000250339508057\n",
            "Load Testing Torch 58 loss: 0.0000022649765015\n",
            "Load Testing Torch 59 loss: 0.0000365972518921\n",
            "Load Testing Torch 60 loss: 0.0006141662597656\n",
            "Load Testing Torch 61 loss: 0.0006737709045410\n",
            "Load Testing Torch 62 loss: 0.0001298189163208\n",
            "Load Testing Torch 63 loss: 0.0002532005310059\n",
            "Load Testing Torch 64 loss: 0.0005989074707031\n",
            "Load Testing Torch 65 loss: 0.0000666379928589\n",
            "Total Time:1.735318899154663\n"
          ]
        }
      ]
    },
    {
      "cell_type": "markdown",
      "source": [
        "TensorRT Model Valuation"
      ],
      "metadata": {
        "id": "8As0ndbVD8wv"
      }
    },
    {
      "cell_type": "code",
      "source": [
        "time_start = time.time()\n",
        "count = 0\n",
        "\n",
        "for batch_i, (data, target) in enumerate(valid_loader):\n",
        "        if count > load:\n",
        "          break\n",
        "        count += 1\n",
        "        # move tensors to GPU if CUDA is available\n",
        "        if gpu_test:\n",
        "            data, target = data.cuda(), target.cuda()\n",
        "\n",
        "        if dtype == \"fp16\":\n",
        "          data = data.half()\n",
        "          # target = target.type('torch.half')\n",
        "        if dtype == \"int8\":\n",
        "          data = data.type('torch.int8')\n",
        "          # target = target.type('torch.half')\n",
        "\n",
        "        # print(data.shape)\n",
        "        output = model_trt(data)\n",
        "        # print(target)\n",
        "        # calculate the batch loss\n",
        "        # print(output)\n",
        "        loss = criterion(output, torch.max(target, 1)[1])\n",
        "        \n",
        "        # update training loss \n",
        "        valid_loss += loss.item()\n",
        "        \n",
        "        if batch_i % batch_size == batch_size-1:    # print validation loss every specified number of mini-batches\n",
        "            print('Load testing TRT %d loss: %.16f' %\n",
        "                  (batch_i + 1, valid_loss / batch_size))\n",
        "            valid_loss = 0.0\n",
        "\n",
        "time_end = time.time()\n",
        "\n",
        "time_diff_trt = time_end - time_start\n",
        "print(\"Total Time TRT:\" + str(time_diff_trt))\n",
        "\n"
      ],
      "metadata": {
        "id": "32_JKcBNZ-go",
        "colab": {
          "base_uri": "https://localhost:8080/"
        },
        "outputId": "c0939864-cfb2-432b-da58-98209fb29bfb"
      },
      "execution_count": 30,
      "outputs": [
        {
          "output_type": "stream",
          "name": "stdout",
          "text": [
            "Load testing TRT 1 loss: 0.0010023117065430\n",
            "Load testing TRT 2 loss: 0.0002046823501587\n",
            "Load testing TRT 3 loss: 0.0020198822021484\n",
            "Load testing TRT 4 loss: 0.0005574226379395\n",
            "Load testing TRT 5 loss: 0.0000990629196167\n",
            "Load testing TRT 6 loss: 0.0000569820404053\n",
            "Load testing TRT 7 loss: 0.0003287792205811\n",
            "Load testing TRT 8 loss: 0.0000990629196167\n",
            "Load testing TRT 9 loss: 0.0000346899032593\n",
            "Load testing TRT 10 loss: 0.0007429122924805\n",
            "Load testing TRT 11 loss: 0.0002689361572266\n",
            "Load testing TRT 12 loss: 0.0000790357589722\n",
            "Load testing TRT 13 loss: 0.0058593750000000\n",
            "Load testing TRT 14 loss: 0.0014467239379883\n",
            "Load testing TRT 15 loss: 0.0000430345535278\n",
            "Load testing TRT 16 loss: 0.0005989074707031\n",
            "Load testing TRT 17 loss: 0.0035552978515625\n",
            "Load testing TRT 18 loss: 0.0016098022460938\n",
            "Load testing TRT 19 loss: 0.0012578964233398\n",
            "Load testing TRT 20 loss: 0.0093460083007812\n",
            "Load testing TRT 21 loss: 0.0004453659057617\n",
            "Load testing TRT 22 loss: 0.0000131130218506\n",
            "Load testing TRT 23 loss: 0.0000543594360352\n",
            "Load testing TRT 24 loss: 0.0003006458282471\n",
            "Load testing TRT 25 loss: 0.0006132125854492\n",
            "Load testing TRT 26 loss: 0.0002827644348145\n",
            "Load testing TRT 27 loss: 0.0000468492507935\n",
            "Load testing TRT 28 loss: 0.0100708007812500\n",
            "Load testing TRT 29 loss: 0.0001026391983032\n",
            "Load testing TRT 30 loss: 0.0000077486038208\n",
            "Load testing TRT 31 loss: 0.0002982616424561\n",
            "Load testing TRT 32 loss: 0.0000194311141968\n",
            "Load testing TRT 33 loss: 0.0002046823501587\n",
            "Load testing TRT 34 loss: 0.0000474452972412\n",
            "Load testing TRT 35 loss: 0.0000020265579224\n",
            "Load testing TRT 36 loss: 0.0000365972518921\n",
            "Load testing TRT 37 loss: 0.0006413459777832\n",
            "Load testing TRT 38 loss: 0.0001240968704224\n",
            "Load testing TRT 39 loss: 0.0000249147415161\n",
            "Load testing TRT 40 loss: 0.0001013278961182\n",
            "Load testing TRT 41 loss: 0.0002481937408447\n",
            "Load testing TRT 42 loss: 0.0000727176666260\n",
            "Load testing TRT 43 loss: 0.0000262260437012\n",
            "Load testing TRT 44 loss: 0.0000045299530029\n",
            "Load testing TRT 45 loss: 0.0006141662597656\n",
            "Load testing TRT 46 loss: 0.0002479553222656\n",
            "Load testing TRT 47 loss: 0.0000674724578857\n",
            "Load testing TRT 48 loss: 0.0000022649765015\n",
            "Load testing TRT 49 loss: 0.0000073909759521\n",
            "Load testing TRT 50 loss: 0.0002782344818115\n",
            "Load testing TRT 51 loss: 0.0001319646835327\n",
            "Load testing TRT 52 loss: 0.0004281997680664\n",
            "Load testing TRT 53 loss: 0.0000666379928589\n",
            "Load testing TRT 54 loss: 0.0002532005310059\n",
            "Load testing TRT 55 loss: 0.0000857114791870\n",
            "Load testing TRT 56 loss: 0.0017938613891602\n",
            "Load testing TRT 57 loss: 0.0023899078369141\n",
            "Load testing TRT 58 loss: 0.0000003576278687\n",
            "Load testing TRT 59 loss: 0.0001275539398193\n",
            "Load testing TRT 60 loss: 0.0030765533447266\n",
            "Load testing TRT 61 loss: 0.0005683898925781\n",
            "Load testing TRT 62 loss: 0.0133209228515625\n",
            "Load testing TRT 63 loss: 0.0006790161132812\n",
            "Load testing TRT 64 loss: 0.0009179115295410\n",
            "Load testing TRT 65 loss: 0.0000081062316895\n",
            "Total Time TRT:0.9171950817108154\n"
          ]
        }
      ]
    },
    {
      "cell_type": "markdown",
      "source": [
        "Check Max Error Between Models"
      ],
      "metadata": {
        "id": "dBVp_W6K80iI"
      }
    },
    {
      "cell_type": "code",
      "source": [
        "time_start = time.time()\n",
        "count = 0\n",
        "max_error_array = []\n",
        "\n",
        "for batch_i, (data, target) in enumerate(valid_loader):\n",
        "        if count > load:\n",
        "          break\n",
        "        count += 1\n",
        "        if gpu_test:\n",
        "            data, target = data.cuda(), target.cuda()\n",
        "\n",
        "        output_torch = model_torch(data.half())\n",
        "\n",
        "        if dtype == \"fp16\":\n",
        "          data = data.half()\n",
        "        if dtype == \"int8\":\n",
        "          data = data.type('torch.int8')\n",
        "\n",
        "        output_trt = model_trt(data)\n",
        "        max_error_array.append(float(torch.max(torch.abs(output_torch - output_trt))))\n",
        "\n",
        "\n",
        "\n",
        "\n",
        "        # print('max error: %f' % float(torch.max(torch.abs(output_torch - output_trt))))\n",
        "\n",
        "time_end = time.time()\n",
        "\n",
        "time_diff_trt = time_end - time_start\n",
        "print(\"Total Time TRT:\" + str(time_diff_trt))"
      ],
      "metadata": {
        "colab": {
          "base_uri": "https://localhost:8080/"
        },
        "id": "1MRHRZtg8zTv",
        "outputId": "311aa01c-47c5-4fe0-f71a-9c94f31dbf08"
      },
      "execution_count": 34,
      "outputs": [
        {
          "output_type": "stream",
          "name": "stdout",
          "text": [
            "Total Time TRT:1.165020227432251\n"
          ]
        }
      ]
    },
    {
      "cell_type": "markdown",
      "source": [
        "**Plot Results for Viewing**"
      ],
      "metadata": {
        "id": "9U_UmP_a6zfH"
      }
    },
    {
      "cell_type": "code",
      "source": [
        "import matplotlib.pyplot as plt\n",
        "fig = plt.figure()\n",
        "ax = fig.add_axes([0,0,1,1])\n",
        "langs = ['Torch', 'TRT']\n",
        "time = [time_diff_torch, time_diff_trt]\n",
        "\n",
        "ax.bar(langs,time)\n",
        "plt.show()"
      ],
      "metadata": {
        "colab": {
          "base_uri": "https://localhost:8080/",
          "height": 356
        },
        "id": "-hEPWAFpCuwg",
        "outputId": "99745735-3aa1-441d-8f73-18d7307a6aaa"
      },
      "execution_count": 40,
      "outputs": [
        {
          "output_type": "stream",
          "name": "stderr",
          "text": [
            "/usr/local/lib/python3.7/dist-packages/IPython/core/pylabtools.py:125: UserWarning: This figure includes Axes that are not compatible with tight_layout, so results might be incorrect.\n",
            "  fig.canvas.print_figure(bytes_io, **kw)\n"
          ]
        },
        {
          "output_type": "display_data",
          "data": {
            "text/plain": [
              "<Figure size 540x252 with 1 Axes>"
            ],
            "image/png": "[encoded data removed]"
          },
          "metadata": {
            "needs_background": "light"
          }
        }
      ]
    },
    {
      "cell_type": "code",
      "source": [
        "import numpy as np\n",
        "import matplotlib.pyplot as plt\n",
        "\n",
        "plt.rcParams[\"figure.figsize\"] = [7.50, 3.50]\n",
        "plt.rcParams[\"figure.autolayout\"] = True\n",
        "\n",
        "y_range = []\n",
        "for i in range(count):\n",
        "  y_range.append(i)\n",
        "\n",
        "\n",
        "\n",
        "x = np.array(max_error_array)\n",
        "y =  np.array(y_range)\n",
        "\n",
        "plt.title(\"Line graph\")\n",
        "plt.plot(y, x, color=\"red\")\n",
        "\n",
        "plt.show()"
      ],
      "metadata": {
        "colab": {
          "base_uri": "https://localhost:8080/",
          "height": 261
        },
        "id": "yJUmc9ikBBTe",
        "outputId": "66a24491-445d-450f-d0fc-dcedd5c9ce5d"
      },
      "execution_count": 38,
      "outputs": [
        {
          "output_type": "display_data",
          "data": {
            "text/plain": [
              "<Figure size 540x252 with 1 Axes>"
            ],
            "image/png": "[encoded data removed]"
          },
          "metadata": {
            "needs_background": "light"
          }
        }
      ]
    },
    {
      "cell_type": "code",
      "source": [
        "# Import libraries\n",
        "import matplotlib.pyplot as plt\n",
        "import numpy as np\n",
        " \n",
        "# Creating dataset\n",
        "\n",
        "max_error_np = np.array(max_error_array)\n",
        "\n",
        " \n",
        "fig = plt.figure(figsize =(10, 7))\n",
        " \n",
        "# Creating plot\n",
        "plt.boxplot(max_error_np)\n",
        " \n",
        "# show plot\n",
        "plt.show()"
      ],
      "metadata": {
        "colab": {
          "base_uri": "https://localhost:8080/",
          "height": 513
        },
        "id": "78mqq49KCLMH",
        "outputId": "13244001-f94c-470e-a07f-9b49029b1c34"
      },
      "execution_count": 39,
      "outputs": [
        {
          "output_type": "display_data",
          "data": {
            "text/plain": [
              "<Figure size 720x504 with 1 Axes>"
            ],
            "image/png": "[encoded data removed]"
          },
          "metadata": {
            "needs_background": "light"
          }
        }
      ]
    }
  ],
  "metadata": {
    "accelerator": "GPU",
    "colab": {
      "collapsed_sections": [],
      "name": "Copy of TorchtoTRT",
      "provenance": []
    },
    "gpuClass": "standard",
    "kernelspec": {
      "display_name": "Python 3",
      "name": "python3"
    },
    "language_info": {
      "name": "python"
    }
  },
  "nbformat": 4,
  "nbformat_minor": 0
}